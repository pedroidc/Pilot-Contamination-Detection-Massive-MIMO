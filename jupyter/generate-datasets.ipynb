{
 "cells": [
  {
   "cell_type": "markdown",
   "id": "ongoing-montreal",
   "metadata": {},
   "source": [
    "# Generate datasets\n",
    "\n",
    "See procedures.txt for furthermore information."
   ]
  },
  {
   "cell_type": "markdown",
   "id": "compressed-myanmar",
   "metadata": {},
   "source": [
    "## Imports"
   ]
  },
  {
   "cell_type": "code",
   "execution_count": null,
   "id": "trained-actor",
   "metadata": {},
   "outputs": [],
   "source": [
    "import sys\n",
    "sys.path.append(\"../python/\")\n",
    "\n",
    "import numpy as np\n",
    "import matplotlib.pyplot as plt\n",
    "import scipy.signal as sig\n",
    "import pandas as pd\n",
    "import utils\n",
    "from pathlib import Path\n",
    "from joblib import Parallel, delayed\n",
    "from time import time\n",
    "from IPython.display import display, clear_output"
   ]
  },
  {
   "cell_type": "code",
   "execution_count": null,
   "id": "015cb0c2",
   "metadata": {},
   "outputs": [],
   "source": []
  },
  {
   "cell_type": "code",
   "execution_count": null,
   "id": "af110edb",
   "metadata": {},
   "outputs": [],
   "source": []
  },
  {
   "cell_type": "code",
   "execution_count": null,
   "id": "24cbe4fc",
   "metadata": {},
   "outputs": [],
   "source": []
  },
  {
   "cell_type": "markdown",
   "id": "1ed27f91",
   "metadata": {},
   "source": [
    "## Global parameters\n"
   ]
  },
  {
   "cell_type": "code",
   "execution_count": null,
   "id": "e3221556",
   "metadata": {},
   "outputs": [],
   "source": [
    "dirDatasets = Path(\"../datasets/\")\n",
    "nJobs       = -1\n",
    "P           = 1 # Users power\n",
    "n_pilot     = 300\n",
    "n_eve       = 1\n",
    "n_trials    = 100\n",
    "range_Pe    = np.arange(0, 2.51, 0.5)\n",
    "columns     = [\"n_users\", \"snr\", \"E\", \"eta\", \"Pe\", \"target\"]\n",
    "\n",
    "np.random.seed(0)"
   ]
  },
  {
   "cell_type": "markdown",
   "id": "fc760eee",
   "metadata": {},
   "source": [
    "### Balancing the cases without pilot contamination\n",
    "\n",
    "There should be the same number of cases with and without PC"
   ]
  },
  {
   "cell_type": "code",
   "execution_count": null,
   "id": "26bb6f7a",
   "metadata": {},
   "outputs": [],
   "source": [
    "range_Pe = np.concatenate((np.zeros(np.count_nonzero(range_Pe>0) - np.count_nonzero(range_Pe==0)), range_Pe))\n",
    "print(range_Pe)"
   ]
  },
  {
   "cell_type": "code",
   "execution_count": null,
   "id": "804db90f",
   "metadata": {},
   "outputs": [],
   "source": []
  },
  {
   "cell_type": "code",
   "execution_count": null,
   "id": "f2c1b82c",
   "metadata": {},
   "outputs": [],
   "source": []
  },
  {
   "cell_type": "code",
   "execution_count": null,
   "id": "83a9eb45",
   "metadata": {},
   "outputs": [],
   "source": []
  },
  {
   "cell_type": "markdown",
   "id": "commercial-probe",
   "metadata": {},
   "source": [
    "## Functions"
   ]
  },
  {
   "cell_type": "markdown",
   "id": "certain-engineering",
   "metadata": {},
   "source": [
    "### Generate channels"
   ]
  },
  {
   "cell_type": "code",
   "execution_count": null,
   "id": "brilliant-memorial",
   "metadata": {},
   "outputs": [],
   "source": [
    "def gen_channels(n_antennas, n_users, n_eve):\n",
    "    # Authentic users' channels\n",
    "    H = np.sqrt(0.5)*(np.random.normal(0, 1, size=(n_antennas, n_users))\n",
    "                      + 1j*np.random.normal(0, 1, size=(n_antennas, n_users)))\n",
    "    \n",
    "    # Eavesdropper channel\n",
    "    g = np.sqrt(0.5)*(np.random.normal(0, 1, size=(n_antennas, n_eve))\n",
    "                      + 1j*np.random.normal(0, 1, size=(n_antennas, n_eve)))\n",
    "    \n",
    "    return H, g"
   ]
  },
  {
   "cell_type": "markdown",
   "id": "subtle-capture",
   "metadata": {},
   "source": [
    "### Simulate uplink"
   ]
  },
  {
   "cell_type": "code",
   "execution_count": null,
   "id": "decimal-detective",
   "metadata": {},
   "outputs": [],
   "source": [
    "def simulate_uplink(n_pilot, n_antennas, n_users, n_eve, Pe, snr):\n",
    "    \n",
    "    # Generate channels\n",
    "    Haut, g = gen_channels(int(n_antennas), int(n_users), int(n_eve))\n",
    "    \n",
    "    # Generate QPSK pilot symbols at the users\n",
    "    b = np.random.choice([0, 1], 2*n_pilot*n_users) # The 2 is because a QPSK symbols requires 2 bits\n",
    "    s = utils.qpskmodulator(b)\n",
    "    xp = s.reshape(n_users, n_pilot) # Row k corresponds to the symbols of the k-th user\n",
    "\n",
    "    # generate pilot signal at the eavesdropper:\n",
    "    xpe = np.sqrt(Pe)*xp[0, :] # xp[0, :] corresponds to the pilot sequence of the first user\n",
    "    \n",
    "    # Concatenate signals and channels to simulate transmission\n",
    "    xptx = np.concatenate((xp, [xpe]))\n",
    "    H    = np.concatenate((Haut, g), axis=1) \n",
    "    \n",
    "    # Transmission\n",
    "    Y = np.dot(H, xptx) # Fading\n",
    "    Y = utils.awgn(Y, SNR=snr) # Additive white Gaussian Noise    \n",
    "    \n",
    "    return Y, xp, H[:,0]"
   ]
  },
  {
   "cell_type": "markdown",
   "id": "dutch-census",
   "metadata": {},
   "source": [
    "### Channel estimation"
   ]
  },
  {
   "cell_type": "code",
   "execution_count": null,
   "id": "rocky-tuner",
   "metadata": {},
   "outputs": [],
   "source": [
    "def channel_estimation(Y, xp):\n",
    "    Hest = np.matmul(\n",
    "        np.matmul(Y, np.conjugate(xp).T), \n",
    "        np.linalg.lstsq(\n",
    "            np.matmul(xp, np.conjugate(xp).T), \n",
    "            np.eye(\n",
    "                np.matmul(xp, np.conjugate(xp).T).shape[0], \n",
    "                np.matmul(xp, np.conjugate(xp).T).shape[0]\n",
    "            ),\n",
    "            rcond=None\n",
    "        )[0]\n",
    "    )\n",
    "    return Hest[:,0]"
   ]
  },
  {
   "cell_type": "markdown",
   "id": "competent-promise",
   "metadata": {},
   "source": [
    "### Channel estimate energy and threshold"
   ]
  },
  {
   "cell_type": "code",
   "execution_count": null,
   "id": "spread-charity",
   "metadata": {},
   "outputs": [],
   "source": [
    "def channel_energy(h, snr, n_antennas, n_pilot):\n",
    "    N0       = 1/(10**(snr/10))\n",
    "    sovertau = n_antennas*N0/n_pilot\n",
    "    ln       = np.log((2+sovertau)/(1+sovertau))\n",
    "    eta      = ((1 + sovertau)*(2+sovertau)*ln).real\n",
    "    E        = (np.matmul(np.conjugate(h).T, h)/n_antennas).real\n",
    "    return E, eta"
   ]
  },
  {
   "cell_type": "markdown",
   "id": "federal-tenant",
   "metadata": {},
   "source": [
    "### Generate sample"
   ]
  },
  {
   "cell_type": "code",
   "execution_count": null,
   "id": "orange-partition",
   "metadata": {},
   "outputs": [],
   "source": [
    "def generate_sample(n_pilot, n_antennas, n_users, Pe, snr, n_eve, csv_path):\n",
    "    \n",
    "    # Uplink\n",
    "    Y, xp, h = simulate_uplink(n_pilot, n_antennas, n_users, n_eve, Pe, snr)\n",
    "    \n",
    "    # Channel Estimation\n",
    "    hest = channel_estimation(Y, xp)\n",
    "    \n",
    "    # Energy and threshold for hypothesys test\n",
    "    E, eta = channel_energy(hest, snr, n_antennas, n_pilot)\n",
    "    \n",
    "    # Create label for sample\n",
    "    target = True if Pe else False\n",
    "    \n",
    "    # Save new row in the CSV\n",
    "    linhaNovaCSV = pd.DataFrame([[\n",
    "        n_users,\n",
    "        snr,\n",
    "        E,\n",
    "        eta,\n",
    "        Pe, \n",
    "        target\n",
    "    ]]).to_csv(csv_path, mode=\"a\", header=False, index=False)"
   ]
  },
  {
   "cell_type": "code",
   "execution_count": null,
   "id": "2abf70ae",
   "metadata": {},
   "outputs": [],
   "source": []
  },
  {
   "cell_type": "code",
   "execution_count": null,
   "id": "29281b67",
   "metadata": {},
   "outputs": [],
   "source": []
  },
  {
   "cell_type": "code",
   "execution_count": null,
   "id": "a80b4925",
   "metadata": {},
   "outputs": [],
   "source": []
  },
  {
   "cell_type": "markdown",
   "id": "authentic-national",
   "metadata": {},
   "source": [
    "## Procedure 1 training dataset"
   ]
  },
  {
   "cell_type": "markdown",
   "id": "liable-background",
   "metadata": {},
   "source": [
    "### Parameters"
   ]
  },
  {
   "cell_type": "code",
   "execution_count": null,
   "id": "divided-canyon",
   "metadata": {},
   "outputs": [],
   "source": [
    "n_antennas  = 256\n",
    "range_snr   = np.arange(-10, 31, 5)\n",
    "range_users = np.concatenate(([1], np.arange(16, 257, 16)))"
   ]
  },
  {
   "cell_type": "markdown",
   "id": "interstate-repeat",
   "metadata": {},
   "source": [
    "### Generating samples"
   ]
  },
  {
   "cell_type": "code",
   "execution_count": null,
   "id": "built-budget",
   "metadata": {},
   "outputs": [],
   "source": [
    "# Initiating the CSV to save data\n",
    "current_iteration = 1\n",
    "total_iterations  = len(range_users) * len(range_snr) * len(range_Pe)\n",
    "df_path           = dirDatasets.joinpath(\"procedure_1_train.csv\")\n",
    "df                = pd.DataFrame(columns=columns).to_csv(df_path, index=False)\n",
    "    \n",
    "for n_users in range_users:\n",
    "    for Pe in range_Pe:\n",
    "        for snr in range_snr:\n",
    "\n",
    "            # Parallel processing to generate samples\n",
    "            Parallel(n_jobs=nJobs, verbose=0)(\n",
    "                delayed(generate_sample)(\n",
    "                    n_pilot, \n",
    "                    n_antennas, \n",
    "                    n_users, \n",
    "                    Pe, \n",
    "                    snr, \n",
    "                    n_eve, \n",
    "                    df_path) for trial in range(n_trials))\n",
    "\n",
    "            # Print information about current iteration\n",
    "            printStr  = \"Number of antennas: \" + str(n_antennas) + \"\\n\"\n",
    "            printStr += \"Number of users:    \" + str(n_users) + \"\\n\"                \n",
    "            printStr += \"Eve power, Pe:      \" + str(Pe) + \"\\n\"\n",
    "            printStr += \"SNR:                \" + str(snr) + \"\\n\"\n",
    "            printStr += \"Progress:           \" + str(100*(current_iteration/total_iterations))[:7] + \"%\"\n",
    "            clear_output(wait=True)\n",
    "            print(printStr)\n",
    "            current_iteration += 1"
   ]
  },
  {
   "cell_type": "code",
   "execution_count": null,
   "id": "7191679a",
   "metadata": {},
   "outputs": [],
   "source": []
  },
  {
   "cell_type": "code",
   "execution_count": null,
   "id": "8f543466",
   "metadata": {},
   "outputs": [],
   "source": []
  },
  {
   "cell_type": "code",
   "execution_count": null,
   "id": "d90bb371",
   "metadata": {},
   "outputs": [],
   "source": []
  },
  {
   "cell_type": "markdown",
   "id": "56d4b337",
   "metadata": {},
   "source": [
    "## Procedure 1 test datasets"
   ]
  },
  {
   "cell_type": "markdown",
   "id": "37c22351",
   "metadata": {},
   "source": [
    "### Test 1.1 - SNR influence over fixed number of antennas and users"
   ]
  },
  {
   "cell_type": "markdown",
   "id": "e283671e",
   "metadata": {},
   "source": [
    "### Parameters"
   ]
  },
  {
   "cell_type": "code",
   "execution_count": null,
   "id": "4acdfc46",
   "metadata": {},
   "outputs": [],
   "source": [
    "n_antennas  = 256\n",
    "range_snr   = np.arange(-10, 31, 1)\n",
    "range_users = np.array([64])"
   ]
  },
  {
   "cell_type": "markdown",
   "id": "3418be5d",
   "metadata": {},
   "source": [
    "### Generating samples"
   ]
  },
  {
   "cell_type": "code",
   "execution_count": null,
   "id": "ad0bdd66",
   "metadata": {
    "scrolled": true
   },
   "outputs": [],
   "source": [
    "# Initiating the CSV to save data\n",
    "current_iteration = 1\n",
    "total_iterations  = len(range_users) * len(range_snr) * len(range_Pe)\n",
    "df_path           = dirDatasets.joinpath(\"procedure_1_test_1.csv\")\n",
    "df                = pd.DataFrame(columns=columns).to_csv(df_path, index=False)\n",
    "    \n",
    "for n_users in range_users:\n",
    "    for Pe in range_Pe:\n",
    "        for snr in range_snr:\n",
    "\n",
    "            # Parallel processing to generate samples\n",
    "            Parallel(n_jobs=nJobs, verbose=0)(\n",
    "                delayed(generate_sample)(\n",
    "                    n_pilot, \n",
    "                    n_antennas, \n",
    "                    n_users, \n",
    "                    Pe, \n",
    "                    snr, \n",
    "                    n_eve, \n",
    "                    df_path) for trial in range(n_trials))\n",
    "\n",
    "            # Print information about current iteration\n",
    "            printStr  = \"Number of antennas: \" + str(n_antennas) + \"\\n\"\n",
    "            printStr += \"Number of users:    \" + str(n_users) + \"\\n\"                \n",
    "            printStr += \"Eve power, Pe:      \" + str(Pe) + \"\\n\"\n",
    "            printStr += \"SNR:                \" + str(snr) + \"\\n\"\n",
    "            printStr += \"Progress:           \" + str(100*(current_iteration/total_iterations))[:7] + \"%\"\n",
    "            clear_output(wait=True)\n",
    "            print(printStr)\n",
    "            current_iteration += 1"
   ]
  },
  {
   "cell_type": "markdown",
   "id": "945adc6a",
   "metadata": {},
   "source": [
    "### Test 1.2 - number of users influence over fixed number of antennas and SNR"
   ]
  },
  {
   "cell_type": "markdown",
   "id": "43970389",
   "metadata": {},
   "source": [
    "### Parameters"
   ]
  },
  {
   "cell_type": "code",
   "execution_count": null,
   "id": "821e628e",
   "metadata": {},
   "outputs": [],
   "source": [
    "n_antennas  = 256\n",
    "range_snr   = np.array([10])\n",
    "range_users = np.concatenate(([1], np.arange(4, 257, 4)))"
   ]
  },
  {
   "cell_type": "markdown",
   "id": "5a29d4a1",
   "metadata": {},
   "source": [
    "### Generating samples"
   ]
  },
  {
   "cell_type": "code",
   "execution_count": null,
   "id": "a3c9c4a0",
   "metadata": {
    "scrolled": true
   },
   "outputs": [],
   "source": [
    "# Initiating the CSV to save data\n",
    "current_iteration = 1\n",
    "total_iterations  = len(range_users) * len(range_snr) * len(range_Pe)\n",
    "df_path           = dirDatasets.joinpath(\"procedure_1_test_2_aaa.csv\")\n",
    "df                = pd.DataFrame(columns=columns).to_csv(df_path, index=False)\n",
    "    \n",
    "for n_users in range_users:\n",
    "    for Pe in range_Pe:\n",
    "        for snr in range_snr:\n",
    "\n",
    "            # Parallel processing to generate samples\n",
    "            Parallel(n_jobs=nJobs, verbose=0)(\n",
    "                delayed(generate_sample)(\n",
    "                    n_pilot, \n",
    "                    n_antennas, \n",
    "                    n_users, \n",
    "                    Pe, \n",
    "                    snr, \n",
    "                    n_eve, \n",
    "                    df_path) for trial in range(n_trials))\n",
    "\n",
    "            # Print information about current iteration\n",
    "            printStr  = \"Number of antennas: \" + str(n_antennas) + \"\\n\"\n",
    "            printStr += \"Number of users:    \" + str(n_users) + \"\\n\"                \n",
    "            printStr += \"Eve power, Pe:      \" + str(Pe) + \"\\n\"\n",
    "            printStr += \"SNR:                \" + str(snr) + \"\\n\"\n",
    "            printStr += \"Progress:           \" + str(100*(current_iteration/total_iterations))[:7] + \"%\"\n",
    "            clear_output(wait=True)\n",
    "            print(printStr)\n",
    "            current_iteration += 1"
   ]
  },
  {
   "cell_type": "code",
   "execution_count": null,
   "id": "1cb12a79",
   "metadata": {},
   "outputs": [],
   "source": []
  },
  {
   "cell_type": "code",
   "execution_count": null,
   "id": "68edce82",
   "metadata": {},
   "outputs": [],
   "source": []
  },
  {
   "cell_type": "code",
   "execution_count": null,
   "id": "bc028d64",
   "metadata": {},
   "outputs": [],
   "source": []
  },
  {
   "cell_type": "markdown",
   "id": "1844c66c",
   "metadata": {},
   "source": [
    "## Procedure 2 datasets"
   ]
  },
  {
   "cell_type": "markdown",
   "id": "28bc9a27",
   "metadata": {},
   "source": [
    "### Parameters"
   ]
  },
  {
   "cell_type": "code",
   "execution_count": null,
   "id": "22b9342b",
   "metadata": {},
   "outputs": [],
   "source": [
    "range_antennas = np.arange(16, 241, 16)\n",
    "range_snr      = np.arange(-10, 31, 5)\n",
    "range_users    = np.concatenate(([1], np.arange(16, 257, 16)))"
   ]
  },
  {
   "cell_type": "markdown",
   "id": "a2997544",
   "metadata": {},
   "source": [
    "### Generating datasets"
   ]
  },
  {
   "cell_type": "code",
   "execution_count": null,
   "id": "89cbdf8c",
   "metadata": {},
   "outputs": [],
   "source": [
    "# Initiating the CSV to save data\n",
    "current_iteration = 1\n",
    "total_iterations  = len(range_antennas) * len(range_users) * len(range_snr) * len(range_Pe)\n",
    "\n",
    "# One dataset for each number of antennas\n",
    "for n_antennas in range_antennas:\n",
    "    df_path = dirDatasets.joinpath(\"procedure_2_\" + str(n_antennas) + \"_antennas.csv\")\n",
    "    df      = pd.DataFrame(columns=columns).to_csv(df_path, index=False)\n",
    "\n",
    "    for n_users in range_users:\n",
    "        for Pe in range_Pe:\n",
    "            for snr in range_snr:\n",
    "\n",
    "                # Parallel processing to generate samples\n",
    "                Parallel(n_jobs=nJobs, verbose=0)(\n",
    "                    delayed(generate_sample)(\n",
    "                        n_pilot, \n",
    "                        n_antennas, \n",
    "                        n_users, \n",
    "                        Pe, \n",
    "                        snr, \n",
    "                        n_eve, \n",
    "                        df_path) for trial in range(n_trials))\n",
    "\n",
    "                # Print information about current iteration\n",
    "                printStr  = \"Number of antennas: \" + str(n_antennas) + \"\\n\"\n",
    "                printStr += \"Number of users:    \" + str(n_users) + \"\\n\"                \n",
    "                printStr += \"Eve power, Pe:      \" + str(Pe) + \"\\n\"\n",
    "                printStr += \"SNR:                \" + str(snr) + \"\\n\"\n",
    "                printStr += \"Progress:           \" + str(100*(current_iteration/total_iterations))[:7] + \"%\"\n",
    "                clear_output(wait=True)\n",
    "                print(printStr)\n",
    "                current_iteration += 1"
   ]
  },
  {
   "cell_type": "code",
   "execution_count": null,
   "id": "dcc70ab0",
   "metadata": {},
   "outputs": [],
   "source": []
  },
  {
   "cell_type": "code",
   "execution_count": null,
   "id": "2358559f",
   "metadata": {},
   "outputs": [],
   "source": []
  },
  {
   "cell_type": "code",
   "execution_count": null,
   "id": "931e2150",
   "metadata": {},
   "outputs": [],
   "source": []
  }
 ],
 "metadata": {
  "kernelspec": {
   "display_name": "Python 3 (ipykernel)",
   "language": "python",
   "name": "python3"
  },
  "language_info": {
   "codemirror_mode": {
    "name": "ipython",
    "version": 3
   },
   "file_extension": ".py",
   "mimetype": "text/x-python",
   "name": "python",
   "nbconvert_exporter": "python",
   "pygments_lexer": "ipython3",
   "version": "3.9.13"
  }
 },
 "nbformat": 4,
 "nbformat_minor": 5
}
