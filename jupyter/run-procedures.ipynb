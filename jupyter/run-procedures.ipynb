{
 "cells": [
  {
   "cell_type": "markdown",
   "id": "05df6db8",
   "metadata": {},
   "source": [
    "# Run procedures"
   ]
  },
  {
   "cell_type": "markdown",
   "id": "230cb7dd",
   "metadata": {},
   "source": [
    "## Imports"
   ]
  },
  {
   "cell_type": "code",
   "execution_count": null,
   "id": "5b0c3a3b",
   "metadata": {},
   "outputs": [],
   "source": [
    "import pandas as pd\n",
    "import numpy as np\n",
    "import json\n",
    "from pathlib import Path\n",
    "from sklearn.model_selection import GridSearchCV, StratifiedKFold\n",
    "from sklearn.tree import DecisionTreeClassifier, export_text\n",
    "from sklearn.metrics import confusion_matrix, accuracy_score, precision_score, recall_score"
   ]
  },
  {
   "cell_type": "code",
   "execution_count": null,
   "id": "1ab1322f",
   "metadata": {},
   "outputs": [],
   "source": []
  },
  {
   "cell_type": "code",
   "execution_count": null,
   "id": "084fcc86",
   "metadata": {},
   "outputs": [],
   "source": []
  },
  {
   "cell_type": "code",
   "execution_count": null,
   "id": "b86bd7e4",
   "metadata": {},
   "outputs": [],
   "source": []
  },
  {
   "cell_type": "markdown",
   "id": "8232a39c",
   "metadata": {},
   "source": [
    "## Functions"
   ]
  },
  {
   "cell_type": "code",
   "execution_count": null,
   "id": "efb94370",
   "metadata": {},
   "outputs": [],
   "source": [
    "def calculate_and_export_metrics(df_test, main_column, path_to_export):\n",
    "    \n",
    "    df_test[\"target\"] = df_test[\"target\"].astype(bool)\n",
    "    df_test[\"pred\"]   = df_test[\"pred\"].astype(bool)\n",
    "    \n",
    "    df_metrics = df_test[[\"Pe\", main_column]].groupby([\"Pe\", main_column]).any()\n",
    "    df_metrics[\"true_negatives\"]  = 0\n",
    "    df_metrics[\"false_negatives\"] = 0\n",
    "    df_metrics[\"true_positives\"]  = 0\n",
    "    df_metrics[\"false_positives\"] = 0\n",
    "    df_metrics[\"detection_proba\"] = 0\n",
    "    df_metrics[\"precision\"]       = 0.0\n",
    "    df_metrics[\"recall\"]          = 0.0\n",
    "    df_metrics[\"accuracy\"]        = 0.0\n",
    "\n",
    "    for Pe, value in df_metrics.index:\n",
    "        df_preds = df_test.loc[(df_test[\"Pe\"]==Pe) & (df_test[main_column]==value)]\n",
    "        CM       = confusion_matrix(df_preds[\"target\"], df_preds[\"pred\"], labels=[False, True])\n",
    "        df_metrics.loc[(Pe, value), \"true_negatives\"]  = CM[0][0]\n",
    "        df_metrics.loc[(Pe, value), \"false_negatives\"] = CM[1][0]\n",
    "        df_metrics.loc[(Pe, value), \"true_positives\"]  = CM[1][1]\n",
    "        df_metrics.loc[(Pe, value), \"false_positives\"] = CM[0][1]\n",
    "        df_metrics.loc[(Pe, value), \"detection_proba\"] = CM[:, 1].sum()/CM.sum()\n",
    "        df_metrics.loc[(Pe, value), \"precision\"]       = precision_score(df_preds[\"target\"], df_preds[\"pred\"], zero_division=1.0)\n",
    "        df_metrics.loc[(Pe, value), \"recall\"]          = recall_score(df_preds[\"target\"], df_preds[\"pred\"], zero_division=1.0)\n",
    "        df_metrics.loc[(Pe, value), \"accuracy\"]        = accuracy_score(df_preds[\"target\"], df_preds[\"pred\"])\n",
    "        \n",
    "        \n",
    "    df_metrics.to_csv(path_to_export)"
   ]
  },
  {
   "cell_type": "code",
   "execution_count": null,
   "id": "5f1d18b6",
   "metadata": {},
   "outputs": [],
   "source": [
    "def hassans_algorithm(sample):\n",
    "    return True if sample[\"E\"] > sample[\"eta\"] else False"
   ]
  },
  {
   "cell_type": "code",
   "execution_count": null,
   "id": "73089461",
   "metadata": {},
   "outputs": [],
   "source": []
  },
  {
   "cell_type": "code",
   "execution_count": null,
   "id": "68de3120",
   "metadata": {},
   "outputs": [],
   "source": []
  },
  {
   "cell_type": "code",
   "execution_count": null,
   "id": "f57c9374",
   "metadata": {},
   "outputs": [],
   "source": []
  },
  {
   "cell_type": "markdown",
   "id": "7064d0a6",
   "metadata": {},
   "source": [
    "## Global parameters"
   ]
  },
  {
   "cell_type": "code",
   "execution_count": null,
   "id": "f01815e9",
   "metadata": {},
   "outputs": [],
   "source": [
    "dirDatasets  = Path(\"../datasets/\")\n",
    "dirResults   = Path(\"../results/\")\n",
    "features     = [\"n_users\", \"E\"]\n",
    "n_jobs       = -1\n",
    "random_state = 0\n",
    "np.random.seed(0)"
   ]
  },
  {
   "cell_type": "code",
   "execution_count": null,
   "id": "73f97002",
   "metadata": {},
   "outputs": [],
   "source": []
  },
  {
   "cell_type": "code",
   "execution_count": null,
   "id": "da88aec2",
   "metadata": {},
   "outputs": [],
   "source": []
  },
  {
   "cell_type": "code",
   "execution_count": null,
   "id": "f537e4b9",
   "metadata": {},
   "outputs": [],
   "source": []
  },
  {
   "cell_type": "markdown",
   "id": "b9eb0168",
   "metadata": {},
   "source": [
    "## Procedure 1 "
   ]
  },
  {
   "cell_type": "markdown",
   "id": "9de723db",
   "metadata": {},
   "source": [
    "### Gridsearch for max depth"
   ]
  },
  {
   "cell_type": "code",
   "execution_count": null,
   "id": "b50041f0",
   "metadata": {},
   "outputs": [],
   "source": [
    "df_train = pd.read_csv(dirDatasets.joinpath(\"procedure_1_train.csv\"))\n",
    "X_train  = df_train[features]\n",
    "y_train  = df_train[\"target\"]"
   ]
  },
  {
   "cell_type": "code",
   "execution_count": null,
   "id": "6d1d849c",
   "metadata": {},
   "outputs": [],
   "source": [
    "gs = GridSearchCV(\n",
    "    estimator  = DecisionTreeClassifier(),\n",
    "    param_grid = {\"max_depth\": np.arange(1, 6)},\n",
    "    scoring    = \"recall\",\n",
    "    n_jobs     = n_jobs,\n",
    "    cv         = 10\n",
    ")\n",
    "gs.fit(X_train, y_train)\n",
    "print(gs.best_params_)"
   ]
  },
  {
   "cell_type": "markdown",
   "id": "fd410fbb",
   "metadata": {},
   "source": [
    "### Training trees and exporting sketches"
   ]
  },
  {
   "cell_type": "code",
   "execution_count": null,
   "id": "c5c3add8",
   "metadata": {},
   "outputs": [],
   "source": [
    "trees = []\n",
    "dict_trees = dict()\n",
    "\n",
    "for max_depth in range(1, gs.best_params_[\"max_depth\"]+1):\n",
    "    clf = DecisionTreeClassifier(max_depth=max_depth, random_state=random_state)\n",
    "    clf.fit(X_train, y_train)\n",
    "    trees.append(clf)\n",
    "    dict_trees[\"depth_{}\".format(max_depth)] = export_text(clf, feature_names=features)\n",
    "    \n",
    "with open(dirResults.joinpath(\"procedure_1_trees_sketch.json\"), mode=\"w\") as file:\n",
    "    json.dump(dict_trees, file, indent=4)"
   ]
  },
  {
   "cell_type": "markdown",
   "id": "41711a12",
   "metadata": {},
   "source": [
    "### Test 1 evaluation"
   ]
  },
  {
   "cell_type": "code",
   "execution_count": null,
   "id": "d3f10b94",
   "metadata": {},
   "outputs": [],
   "source": [
    "df_test = pd.read_csv(dirDatasets.joinpath(\"procedure_1_test_1.csv\"))\n",
    "\n",
    "for max_depth, tree in zip(range(1, gs.best_params_[\"max_depth\"]+1), trees):\n",
    "    df_test[\"pred\"] = tree.predict(df_test[features])\n",
    "    calculate_and_export_metrics(\n",
    "        df_test, \n",
    "        \"snr\", \n",
    "        dirResults.joinpath(\"procedure_1_test_1_depth_{}.csv\".format(max_depth))\n",
    "    )"
   ]
  },
  {
   "cell_type": "markdown",
   "id": "4f282eeb",
   "metadata": {},
   "source": [
    "### Test 2 evaluation"
   ]
  },
  {
   "cell_type": "code",
   "execution_count": null,
   "id": "37dae63c",
   "metadata": {},
   "outputs": [],
   "source": [
    "df_test = pd.read_csv(dirDatasets.joinpath(\"procedure_1_test_2.csv\"))\n",
    "\n",
    "for max_depth, tree in zip(range(1, gs.best_params_[\"max_depth\"]+1), trees):\n",
    "    df_test[\"pred\"] = tree.predict(df_test[features])\n",
    "    calculate_and_export_metrics(\n",
    "        df_test, \n",
    "        \"n_users\", \n",
    "        dirResults.joinpath(\"procedure_1_test_2_depth_{}.csv\".format(max_depth))\n",
    "    )"
   ]
  },
  {
   "cell_type": "code",
   "execution_count": null,
   "id": "cebfb4a0",
   "metadata": {},
   "outputs": [],
   "source": []
  },
  {
   "cell_type": "code",
   "execution_count": null,
   "id": "34056330",
   "metadata": {},
   "outputs": [],
   "source": []
  },
  {
   "cell_type": "code",
   "execution_count": null,
   "id": "93d8cf90",
   "metadata": {},
   "outputs": [],
   "source": []
  },
  {
   "cell_type": "markdown",
   "id": "94562d8c",
   "metadata": {},
   "source": [
    "## Procedure 2"
   ]
  },
  {
   "cell_type": "code",
   "execution_count": null,
   "id": "470a6c4a",
   "metadata": {},
   "outputs": [],
   "source": [
    "# Snr and number of users to consider when evaluating metrics (keep all values when training)\n",
    "test_snr   = 10\n",
    "test_users = 64\n",
    "\n",
    "# Initializing dataframe to keep predictions of desired snr and users\n",
    "df_test = pd.DataFrame(columns=[\"n_antennas\", \"Pe\", \"target\", \"pred\"])\n",
    "\n",
    "# For each number of antennas, fit new model\n",
    "dict_max_depths = dict()\n",
    "for n_antennas in range(64, 257, 16):\n",
    "    \n",
    "    # Open dataset and separate data\n",
    "    if n_antennas < 256:\n",
    "        df = pd.read_csv(dirDatasets.joinpath(\"procedure_2_{}_antennas.csv\".format(n_antennas)))\n",
    "    else:\n",
    "        df = pd.read_csv(dirDatasets.joinpath(\"procedure_1_train.csv\"))\n",
    "    df[\"pred\"] = False\n",
    "    df[\"n_antennas\"] = n_antennas\n",
    "    X = df[features]\n",
    "    y = df[\"target\"]\n",
    "    \n",
    "    # Gridsearch CV\n",
    "    gs = GridSearchCV(\n",
    "        estimator  = DecisionTreeClassifier(),\n",
    "        param_grid = {\"max_depth\": np.arange(1, 6)},\n",
    "        scoring    = \"recall\",\n",
    "        n_jobs     = n_jobs,\n",
    "        cv         = 10\n",
    "    )\n",
    "    gs.fit(X, y)\n",
    "    dict_max_depths[\"antennas_{}\".format(n_antennas)] = int(gs.best_params_[\"max_depth\"])\n",
    "    \n",
    "    # Use the best max_depth to train/test each stratified k fold\n",
    "    skf = StratifiedKFold(n_splits=10, shuffle=True, random_state=random_state)\n",
    "    for train_index, test_index in skf.split(X, y):\n",
    "        X_train, X_test = X.loc[train_index], X.loc[test_index]\n",
    "        y_train, y_test = y.loc[train_index], y.loc[test_index]\n",
    "        clf = DecisionTreeClassifier(max_depth=gs.best_params_[\"max_depth\"], random_state=random_state)\n",
    "        clf.fit(X_train, y_train)\n",
    "        df.loc[test_index, \"pred\"] = clf.predict(X_test)\n",
    "        \n",
    "    # Keeping only samples of desired snr and users\n",
    "    df_test = pd.concat(\n",
    "        axis         = 0,\n",
    "        ignore_index = True,\n",
    "        objs         = (\n",
    "            df_test, \n",
    "            df.loc[(df[\"snr\"]==test_snr) & (df[\"n_users\"]==test_users)][df_test.columns]\n",
    "        )\n",
    "    )\n",
    "    \n",
    "# Calculating metrics\n",
    "calculate_and_export_metrics(\n",
    "    df_test, \n",
    "    \"n_antennas\", \n",
    "    dirResults.joinpath(\"procedure_2_tree.csv\")\n",
    ")\n",
    "\n",
    "# Registering the best tree depth for each n antennas\n",
    "with open(dirResults.joinpath(\"procedure_2_max_depths.json\"), mode=\"w\") as file:\n",
    "    json.dump(dict_max_depths, file, indent=4)"
   ]
  },
  {
   "cell_type": "code",
   "execution_count": null,
   "id": "575766cf",
   "metadata": {},
   "outputs": [],
   "source": []
  },
  {
   "cell_type": "code",
   "execution_count": null,
   "id": "470c7659",
   "metadata": {},
   "outputs": [],
   "source": []
  },
  {
   "cell_type": "code",
   "execution_count": null,
   "id": "d8011a08",
   "metadata": {},
   "outputs": [],
   "source": []
  },
  {
   "cell_type": "markdown",
   "id": "57cd197d",
   "metadata": {},
   "source": [
    "## Hassan's algorithm"
   ]
  },
  {
   "cell_type": "markdown",
   "id": "fa7563de",
   "metadata": {},
   "source": [
    "### Procedure 1.1"
   ]
  },
  {
   "cell_type": "code",
   "execution_count": null,
   "id": "2cde0fbd",
   "metadata": {},
   "outputs": [],
   "source": [
    "df_test = pd.read_csv(dirDatasets.joinpath(\"procedure_1_test_1.csv\"))\n",
    "df_test[\"pred\"] = df_test.apply(hassans_algorithm, axis=1)\n",
    "calculate_and_export_metrics(\n",
    "    df_test, \n",
    "    \"snr\", \n",
    "    dirResults.joinpath(\"procedure_1_test_1_hassan.csv\")\n",
    ")"
   ]
  },
  {
   "cell_type": "markdown",
   "id": "0a892ac1",
   "metadata": {},
   "source": [
    "### Procedure 1.1"
   ]
  },
  {
   "cell_type": "code",
   "execution_count": null,
   "id": "8e049777",
   "metadata": {},
   "outputs": [],
   "source": [
    "df_test = pd.read_csv(dirDatasets.joinpath(\"procedure_1_test_2.csv\"))\n",
    "df_test[\"pred\"] = df_test.apply(hassans_algorithm, axis=1)\n",
    "calculate_and_export_metrics(\n",
    "    df_test, \n",
    "    \"n_users\", \n",
    "    dirResults.joinpath(\"procedure_1_test_2_hassan.csv\")\n",
    ")"
   ]
  },
  {
   "cell_type": "markdown",
   "id": "bb883804",
   "metadata": {},
   "source": [
    "### Procedure 2"
   ]
  },
  {
   "cell_type": "code",
   "execution_count": null,
   "id": "1709e4d4",
   "metadata": {},
   "outputs": [],
   "source": [
    "test_snr   = 10\n",
    "test_users = 64\n",
    "df_test    = pd.DataFrame(columns=[\"n_antennas\", \"Pe\", \"target\", \"pred\"])\n",
    "\n",
    "for n_antennas in range(64, 257, 16):\n",
    "    if n_antennas < 256:\n",
    "        df = pd.read_csv(dirDatasets.joinpath(\"procedure_2_{}_antennas.csv\".format(n_antennas)))\n",
    "    else:\n",
    "        df = pd.read_csv(dirDatasets.joinpath(\"procedure_1_train.csv\"))\n",
    "        \n",
    "    df = df.loc[(df[\"snr\"]==test_snr) & (df[\"n_users\"]==test_users)]\n",
    "    df[\"n_antennas\"] = n_antennas\n",
    "    df[\"pred\"] = df.apply(hassans_algorithm, axis=1)\n",
    "    df_test = pd.concat(\n",
    "        axis         = 0,\n",
    "        ignore_index = True,\n",
    "        objs         = (\n",
    "            df_test, \n",
    "            df[df_test.columns]\n",
    "        )\n",
    "    )\n",
    "    \n",
    "calculate_and_export_metrics(\n",
    "    df_test, \n",
    "    \"n_antennas\", \n",
    "    dirResults.joinpath(\"procedure_2_hassan.csv\")\n",
    ")"
   ]
  },
  {
   "cell_type": "code",
   "execution_count": null,
   "id": "6ca366d6",
   "metadata": {},
   "outputs": [],
   "source": []
  },
  {
   "cell_type": "code",
   "execution_count": null,
   "id": "6cae9a6d",
   "metadata": {},
   "outputs": [],
   "source": []
  },
  {
   "cell_type": "code",
   "execution_count": null,
   "id": "b37af6ec",
   "metadata": {},
   "outputs": [],
   "source": []
  }
 ],
 "metadata": {
  "kernelspec": {
   "display_name": "Python 3 (ipykernel)",
   "language": "python",
   "name": "python3"
  },
  "language_info": {
   "codemirror_mode": {
    "name": "ipython",
    "version": 3
   },
   "file_extension": ".py",
   "mimetype": "text/x-python",
   "name": "python",
   "nbconvert_exporter": "python",
   "pygments_lexer": "ipython3",
   "version": "3.9.13"
  }
 },
 "nbformat": 4,
 "nbformat_minor": 5
}
